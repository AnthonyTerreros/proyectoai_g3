{
 "cells": [
  {
   "cell_type": "code",
   "execution_count": 90,
   "metadata": {
    "colab": {
     "base_uri": "https://localhost:8080/"
    },
    "id": "34Fx5hsIybTv",
    "outputId": "ee64c65a-45b7-4584-a088-2848d5039f8f"
   },
   "outputs": [],
   "source": [
    "import matplotlib.pyplot as plt\n",
    "import numpy as np\n",
    "import tensorflow as tf\n",
    "import os\n",
    "\n",
    "from tensorflow.keras import layers, models\n",
    "from tensorflow.keras.preprocessing.image import ImageDataGenerator"
   ]
  },
  {
   "cell_type": "markdown",
   "metadata": {
    "id": "UfRIoA2TDwpJ"
   },
   "source": [
    "## Carga de Dataset, Normalizacion y Aumento de Datos"
   ]
  },
  {
   "cell_type": "code",
   "execution_count": 4,
   "metadata": {
    "id": "mn1T0g_PC9dz"
   },
   "outputs": [],
   "source": [
    "base_directory = \"../inputs/cacao_diseases/cacao_photos\"\n",
    "image_size = 256\n",
    "batch_size = 32\n",
    "rotation_range = 40\n",
    "width_move = 0.25\n",
    "height_move = 0.25\n",
    "tilt_range = 15\n",
    "zoom_range = 0.5"
   ]
  },
  {
   "cell_type": "code",
   "execution_count": 5,
   "metadata": {
    "id": "6Y54Akzr6DUo"
   },
   "outputs": [],
   "source": [
    "# Carga de Datos\n",
    "# train_ds = tf.keras.preprocessing.image_dataset_from_directory(\n",
    "#     base_directory,\n",
    "#     image_size = (image_size, image_size),\n",
    "#     batch_size = 32,\n",
    "#     subset = \"training\",\n",
    "#     color_mode = \"rgb\",\n",
    "#     shuffle = True,\n",
    "#     validation_split = 0.2,\n",
    "#     seed = 123\n",
    "# )\n",
    "\n",
    "# test_ds = tf.keras.preprocessing.image_dataset_from_directory(\n",
    "#     base_directory,\n",
    "#     image_size = (image_size, image_size),\n",
    "#     batch_size = 32,\n",
    "#     subset = \"validation\",\n",
    "#     color_mode = \"rgb\",\n",
    "#     shuffle = True,\n",
    "#     validation_split = 0.2,\n",
    "#     seed = 123\n",
    "# )"
   ]
  },
  {
   "cell_type": "code",
   "execution_count": 6,
   "metadata": {
    "id": "OnFjrt_iDlHl"
   },
   "outputs": [],
   "source": [
    "# Aumento de Datos\n",
    "train_datagenerator = ImageDataGenerator(\n",
    "    rescale = 1./255, # Normalizacion\n",
    "    rotation_range = rotation_range,\n",
    "    width_shift_range = width_move,\n",
    "    height_shift_range = height_move,\n",
    "    zoom_range = zoom_range,\n",
    "    shear_range = tilt_range,\n",
    "    validation_split = 0.2\n",
    ")\n",
    "\n",
    "test_datagenerator = ImageDataGenerator(\n",
    "    rescale = 1./255,\n",
    "    validation_split = 0.2\n",
    ")"
   ]
  },
  {
   "cell_type": "code",
   "execution_count": 7,
   "metadata": {
    "colab": {
     "base_uri": "https://localhost:8080/"
    },
    "id": "NPGp0RqEkl6C",
    "outputId": "dc44b2e2-01d1-426d-cd65-dd7b03429f90"
   },
   "outputs": [
    {
     "name": "stdout",
     "output_type": "stream",
     "text": [
      "Found 3514 images belonging to 3 classes.\n",
      "Found 876 images belonging to 3 classes.\n"
     ]
    }
   ],
   "source": [
    "# Carga de Datos\n",
    "train_data = train_datagenerator.flow_from_directory(\n",
    "    base_directory,\n",
    "    target_size = (image_size, image_size),\n",
    "    batch_size = 32,\n",
    "    subset = \"training\",\n",
    "    shuffle = True,\n",
    "    color_mode = \"rgb\",\n",
    ")\n",
    "\n",
    "test_data = train_datagenerator.flow_from_directory(\n",
    "    base_directory,\n",
    "    target_size = (image_size, image_size),\n",
    "    batch_size = 32,\n",
    "    subset = \"validation\",\n",
    "    shuffle = True,\n",
    "    color_mode = \"rgb\",\n",
    ")"
   ]
  },
  {
   "cell_type": "code",
   "execution_count": 8,
   "metadata": {
    "colab": {
     "base_uri": "https://localhost:8080/"
    },
    "id": "_-JZ0Zrz0z3b",
    "outputId": "6706e85d-084f-42f4-da46-ce0cfe296b2b"
   },
   "outputs": [
    {
     "data": {
      "text/plain": [
       "{'mancha_negra': 0, 'monilia': 1, 'saludable': 2}"
      ]
     },
     "execution_count": 8,
     "metadata": {},
     "output_type": "execute_result"
    }
   ],
   "source": [
    "train_data.class_indices"
   ]
  },
  {
   "cell_type": "markdown",
   "metadata": {
    "id": "v8K9ul1MC-We"
   },
   "source": [
    "## Creacion de Modelo"
   ]
  },
  {
   "cell_type": "code",
   "execution_count": 9,
   "metadata": {
    "id": "Koknx6ZYDHfj"
   },
   "outputs": [],
   "source": [
    "model = models.Sequential([\n",
    "    layers.Conv2D(16, (3,3), input_shape=(image_size, image_size, 3), activation='relu'),\n",
    "    layers.MaxPooling2D(2,2),\n",
    "    layers.Conv2D(32, (3,3), activation='relu'),\n",
    "    layers.Conv2D(32, (3,3), activation='relu'),\n",
    "    layers.MaxPooling2D(2,2),\n",
    "    layers.Conv2D(64, (3,3), activation='relu'),\n",
    "    layers.Conv2D(64, (3,3), activation='relu'),\n",
    "    layers.MaxPooling2D(2,2),\n",
    "    layers.Conv2D(128, (3,3), activation='relu'),\n",
    "    layers.MaxPooling2D(2,2),\n",
    "    layers.Flatten(),\n",
    "    layers.Dense(units = 128, activation=\"relu\"),\n",
    "    layers.Dense(units = 50, activation=\"relu\"),\n",
    "    layers.Dropout(0.5),\n",
    "    layers.Dense(units = 50, activation=\"relu\"),\n",
    "    layers.Dense(units = 3, activation=\"softmax\")\n",
    "])"
   ]
  },
  {
   "cell_type": "code",
   "execution_count": 10,
   "metadata": {
    "colab": {
     "base_uri": "https://localhost:8080/"
    },
    "id": "q5Mk7H-Klcof",
    "outputId": "cef4144e-5c7d-4204-c8f2-3548af687662"
   },
   "outputs": [
    {
     "name": "stdout",
     "output_type": "stream",
     "text": [
      "Model: \"sequential\"\n",
      "_________________________________________________________________\n",
      " Layer (type)                Output Shape              Param #   \n",
      "=================================================================\n",
      " conv2d (Conv2D)             (None, 254, 254, 16)      448       \n",
      "                                                                 \n",
      " max_pooling2d (MaxPooling2D  (None, 127, 127, 16)     0         \n",
      " )                                                               \n",
      "                                                                 \n",
      " conv2d_1 (Conv2D)           (None, 125, 125, 32)      4640      \n",
      "                                                                 \n",
      " conv2d_2 (Conv2D)           (None, 123, 123, 32)      9248      \n",
      "                                                                 \n",
      " max_pooling2d_1 (MaxPooling  (None, 61, 61, 32)       0         \n",
      " 2D)                                                             \n",
      "                                                                 \n",
      " conv2d_3 (Conv2D)           (None, 59, 59, 64)        18496     \n",
      "                                                                 \n",
      " conv2d_4 (Conv2D)           (None, 57, 57, 64)        36928     \n",
      "                                                                 \n",
      " max_pooling2d_2 (MaxPooling  (None, 28, 28, 64)       0         \n",
      " 2D)                                                             \n",
      "                                                                 \n",
      " conv2d_5 (Conv2D)           (None, 26, 26, 128)       73856     \n",
      "                                                                 \n",
      " max_pooling2d_3 (MaxPooling  (None, 13, 13, 128)      0         \n",
      " 2D)                                                             \n",
      "                                                                 \n",
      " flatten (Flatten)           (None, 21632)             0         \n",
      "                                                                 \n",
      " dense (Dense)               (None, 128)               2769024   \n",
      "                                                                 \n",
      " dense_1 (Dense)             (None, 50)                6450      \n",
      "                                                                 \n",
      " dropout (Dropout)           (None, 50)                0         \n",
      "                                                                 \n",
      " dense_2 (Dense)             (None, 50)                2550      \n",
      "                                                                 \n",
      " dense_3 (Dense)             (None, 3)                 153       \n",
      "                                                                 \n",
      "=================================================================\n",
      "Total params: 2,921,793\n",
      "Trainable params: 2,921,793\n",
      "Non-trainable params: 0\n",
      "_________________________________________________________________\n"
     ]
    }
   ],
   "source": [
    "model.summary()"
   ]
  },
  {
   "cell_type": "code",
   "execution_count": 11,
   "metadata": {
    "id": "GU2evybrldQF"
   },
   "outputs": [],
   "source": [
    "model.compile(optimizer = 'adam',\n",
    "              loss = 'categorical_crossentropy',\n",
    "              metrics = ['accuracy'])"
   ]
  },
  {
   "cell_type": "markdown",
   "metadata": {
    "id": "Y1o07IjxDmQl"
   },
   "source": [
    "## Entrenamiento"
   ]
  },
  {
   "cell_type": "code",
   "execution_count": 12,
   "metadata": {
    "colab": {
     "base_uri": "https://localhost:8080/"
    },
    "id": "mICLQV-EDpDM",
    "outputId": "8d64bfbb-8593-462a-bad0-80d330745cd1"
   },
   "outputs": [
    {
     "name": "stdout",
     "output_type": "stream",
     "text": [
      "Epoch 1/150\n",
      "110/110 [==============================] - 172s 2s/step - loss: 0.6749 - accuracy: 0.7484 - val_loss: 0.5807 - val_accuracy: 0.7626\n",
      "Epoch 2/150\n",
      "110/110 [==============================] - 131s 1s/step - loss: 0.5988 - accuracy: 0.7615 - val_loss: 0.6368 - val_accuracy: 0.7626\n",
      "Epoch 3/150\n",
      "110/110 [==============================] - 134s 1s/step - loss: 0.5894 - accuracy: 0.7615 - val_loss: 0.5838 - val_accuracy: 0.7626\n",
      "Epoch 4/150\n",
      "110/110 [==============================] - 141s 1s/step - loss: 0.5830 - accuracy: 0.7615 - val_loss: 0.5670 - val_accuracy: 0.7626\n",
      "Epoch 5/150\n",
      "110/110 [==============================] - 136s 1s/step - loss: 0.5683 - accuracy: 0.7615 - val_loss: 0.5787 - val_accuracy: 0.7626\n",
      "Epoch 6/150\n",
      "110/110 [==============================] - 135s 1s/step - loss: 0.5802 - accuracy: 0.7615 - val_loss: 0.6178 - val_accuracy: 0.7626\n",
      "Epoch 7/150\n",
      "110/110 [==============================] - 132s 1s/step - loss: 0.5708 - accuracy: 0.7615 - val_loss: 0.5683 - val_accuracy: 0.7626\n",
      "Epoch 8/150\n",
      "110/110 [==============================] - 134s 1s/step - loss: 0.5627 - accuracy: 0.7615 - val_loss: 0.5777 - val_accuracy: 0.7626\n",
      "Epoch 9/150\n",
      "110/110 [==============================] - 133s 1s/step - loss: 0.5619 - accuracy: 0.7615 - val_loss: 0.5685 - val_accuracy: 0.7626\n",
      "Epoch 10/150\n",
      "110/110 [==============================] - 135s 1s/step - loss: 0.5605 - accuracy: 0.7615 - val_loss: 0.5725 - val_accuracy: 0.7626\n",
      "Epoch 11/150\n",
      "110/110 [==============================] - 135s 1s/step - loss: 0.5710 - accuracy: 0.7615 - val_loss: 0.5552 - val_accuracy: 0.7626\n",
      "Epoch 12/150\n",
      "110/110 [==============================] - 136s 1s/step - loss: 0.5539 - accuracy: 0.7615 - val_loss: 0.5592 - val_accuracy: 0.7626\n",
      "Epoch 13/150\n",
      "110/110 [==============================] - 136s 1s/step - loss: 0.5602 - accuracy: 0.7615 - val_loss: 0.5699 - val_accuracy: 0.7626\n",
      "Epoch 14/150\n",
      "110/110 [==============================] - 135s 1s/step - loss: 0.5663 - accuracy: 0.7615 - val_loss: 0.6108 - val_accuracy: 0.7626\n",
      "Epoch 15/150\n",
      "110/110 [==============================] - 135s 1s/step - loss: 0.5538 - accuracy: 0.7615 - val_loss: 0.5545 - val_accuracy: 0.7626\n",
      "Epoch 16/150\n",
      "110/110 [==============================] - 135s 1s/step - loss: 0.5549 - accuracy: 0.7615 - val_loss: 0.5622 - val_accuracy: 0.7626\n",
      "Epoch 17/150\n",
      "110/110 [==============================] - 135s 1s/step - loss: 0.5539 - accuracy: 0.7615 - val_loss: 0.5704 - val_accuracy: 0.7626\n",
      "Epoch 18/150\n",
      "110/110 [==============================] - 135s 1s/step - loss: 0.5574 - accuracy: 0.7610 - val_loss: 0.5688 - val_accuracy: 0.7626\n",
      "Epoch 19/150\n",
      "110/110 [==============================] - 135s 1s/step - loss: 0.5446 - accuracy: 0.7615 - val_loss: 0.5628 - val_accuracy: 0.7626\n",
      "Epoch 20/150\n",
      "110/110 [==============================] - 135s 1s/step - loss: 0.5483 - accuracy: 0.7618 - val_loss: 0.5542 - val_accuracy: 0.7626\n",
      "Epoch 21/150\n",
      "110/110 [==============================] - 135s 1s/step - loss: 0.5497 - accuracy: 0.7612 - val_loss: 0.5864 - val_accuracy: 0.7626\n",
      "Epoch 22/150\n",
      "110/110 [==============================] - 136s 1s/step - loss: 0.5483 - accuracy: 0.7618 - val_loss: 0.5616 - val_accuracy: 0.7637\n",
      "Epoch 23/150\n",
      "110/110 [==============================] - 134s 1s/step - loss: 0.5417 - accuracy: 0.7621 - val_loss: 0.5456 - val_accuracy: 0.7626\n",
      "Epoch 24/150\n",
      "110/110 [==============================] - 136s 1s/step - loss: 0.5397 - accuracy: 0.7638 - val_loss: 0.5610 - val_accuracy: 0.7637\n",
      "Epoch 25/150\n",
      "110/110 [==============================] - 136s 1s/step - loss: 0.5364 - accuracy: 0.7621 - val_loss: 0.5470 - val_accuracy: 0.7705\n",
      "Epoch 26/150\n",
      "110/110 [==============================] - 136s 1s/step - loss: 0.5421 - accuracy: 0.7618 - val_loss: 0.5562 - val_accuracy: 0.7705\n",
      "Epoch 27/150\n",
      "110/110 [==============================] - 136s 1s/step - loss: 0.5385 - accuracy: 0.7618 - val_loss: 0.5486 - val_accuracy: 0.7705\n",
      "Epoch 28/150\n",
      "110/110 [==============================] - 136s 1s/step - loss: 0.5463 - accuracy: 0.7629 - val_loss: 0.5379 - val_accuracy: 0.7626\n",
      "Epoch 29/150\n",
      "110/110 [==============================] - 135s 1s/step - loss: 0.5347 - accuracy: 0.7629 - val_loss: 0.5680 - val_accuracy: 0.7842\n",
      "Epoch 30/150\n",
      "110/110 [==============================] - 136s 1s/step - loss: 0.5422 - accuracy: 0.7647 - val_loss: 0.5534 - val_accuracy: 0.7626\n",
      "Epoch 31/150\n",
      "110/110 [==============================] - 134s 1s/step - loss: 0.5295 - accuracy: 0.7635 - val_loss: 0.5610 - val_accuracy: 0.7626\n",
      "Epoch 32/150\n",
      "110/110 [==============================] - 136s 1s/step - loss: 0.5269 - accuracy: 0.7638 - val_loss: 0.5950 - val_accuracy: 0.7626\n",
      "Epoch 33/150\n",
      "110/110 [==============================] - 135s 1s/step - loss: 0.5372 - accuracy: 0.7647 - val_loss: 0.5576 - val_accuracy: 0.7671\n",
      "Epoch 34/150\n",
      "110/110 [==============================] - 137s 1s/step - loss: 0.5382 - accuracy: 0.7652 - val_loss: 0.5618 - val_accuracy: 0.7626\n",
      "Epoch 35/150\n",
      "110/110 [==============================] - 133s 1s/step - loss: 0.5378 - accuracy: 0.7658 - val_loss: 0.6043 - val_accuracy: 0.7831\n",
      "Epoch 36/150\n",
      "110/110 [==============================] - 134s 1s/step - loss: 0.5325 - accuracy: 0.7610 - val_loss: 0.5580 - val_accuracy: 0.7637\n",
      "Epoch 37/150\n",
      "110/110 [==============================] - 135s 1s/step - loss: 0.5228 - accuracy: 0.7629 - val_loss: 0.5709 - val_accuracy: 0.7660\n",
      "Epoch 38/150\n",
      "110/110 [==============================] - 134s 1s/step - loss: 0.5185 - accuracy: 0.7629 - val_loss: 0.5518 - val_accuracy: 0.7671\n",
      "Epoch 39/150\n",
      "110/110 [==============================] - 137s 1s/step - loss: 0.5166 - accuracy: 0.7658 - val_loss: 0.5292 - val_accuracy: 0.7705\n",
      "Epoch 40/150\n",
      "110/110 [==============================] - 136s 1s/step - loss: 0.5231 - accuracy: 0.7618 - val_loss: 0.5329 - val_accuracy: 0.7648\n",
      "Epoch 41/150\n",
      "110/110 [==============================] - 132s 1s/step - loss: 0.5120 - accuracy: 0.7701 - val_loss: 0.5157 - val_accuracy: 0.7820\n",
      "Epoch 42/150\n",
      "110/110 [==============================] - 131s 1s/step - loss: 0.5080 - accuracy: 0.7672 - val_loss: 0.5041 - val_accuracy: 0.7717\n",
      "Epoch 43/150\n",
      "110/110 [==============================] - 137s 1s/step - loss: 0.4949 - accuracy: 0.7803 - val_loss: 0.5089 - val_accuracy: 0.7751\n",
      "Epoch 44/150\n",
      "110/110 [==============================] - 137s 1s/step - loss: 0.4905 - accuracy: 0.7854 - val_loss: 0.5530 - val_accuracy: 0.8014\n",
      "Epoch 45/150\n",
      "110/110 [==============================] - 139s 1s/step - loss: 0.4915 - accuracy: 0.7886 - val_loss: 0.5540 - val_accuracy: 0.7763\n",
      "Epoch 46/150\n",
      "110/110 [==============================] - 137s 1s/step - loss: 0.4533 - accuracy: 0.8082 - val_loss: 0.4367 - val_accuracy: 0.8265\n",
      "Epoch 47/150\n",
      "110/110 [==============================] - 138s 1s/step - loss: 0.4406 - accuracy: 0.8244 - val_loss: 0.5235 - val_accuracy: 0.7877\n",
      "Epoch 48/150\n",
      "110/110 [==============================] - 137s 1s/step - loss: 0.4364 - accuracy: 0.8273 - val_loss: 0.5871 - val_accuracy: 0.7785\n",
      "Epoch 49/150\n",
      "110/110 [==============================] - 134s 1s/step - loss: 0.4503 - accuracy: 0.8170 - val_loss: 0.4529 - val_accuracy: 0.8253\n",
      "Epoch 50/150\n",
      "110/110 [==============================] - 136s 1s/step - loss: 0.4213 - accuracy: 0.8358 - val_loss: 0.5139 - val_accuracy: 0.8025\n",
      "Epoch 51/150\n",
      "110/110 [==============================] - 134s 1s/step - loss: 0.4252 - accuracy: 0.8318 - val_loss: 0.4866 - val_accuracy: 0.8025\n",
      "Epoch 52/150\n",
      "110/110 [==============================] - 136s 1s/step - loss: 0.4183 - accuracy: 0.8389 - val_loss: 0.4340 - val_accuracy: 0.8470\n",
      "Epoch 53/150\n",
      "110/110 [==============================] - 136s 1s/step - loss: 0.3898 - accuracy: 0.8469 - val_loss: 0.4098 - val_accuracy: 0.8345\n",
      "Epoch 54/150\n",
      "110/110 [==============================] - 136s 1s/step - loss: 0.3624 - accuracy: 0.8617 - val_loss: 0.3971 - val_accuracy: 0.8482\n",
      "Epoch 55/150\n",
      "110/110 [==============================] - 136s 1s/step - loss: 0.3789 - accuracy: 0.8594 - val_loss: 0.4205 - val_accuracy: 0.8505\n",
      "Epoch 56/150\n",
      "110/110 [==============================] - 135s 1s/step - loss: 0.3611 - accuracy: 0.8662 - val_loss: 0.3814 - val_accuracy: 0.8562\n",
      "Epoch 57/150\n",
      "110/110 [==============================] - 136s 1s/step - loss: 0.3593 - accuracy: 0.8634 - val_loss: 0.3585 - val_accuracy: 0.8664\n",
      "Epoch 58/150\n",
      "110/110 [==============================] - 136s 1s/step - loss: 0.3335 - accuracy: 0.8768 - val_loss: 0.3884 - val_accuracy: 0.8596\n",
      "Epoch 59/150\n",
      "110/110 [==============================] - 136s 1s/step - loss: 0.3221 - accuracy: 0.8739 - val_loss: 0.3324 - val_accuracy: 0.8881\n",
      "Epoch 60/150\n",
      "110/110 [==============================] - 136s 1s/step - loss: 0.3227 - accuracy: 0.8828 - val_loss: 0.4343 - val_accuracy: 0.8174\n",
      "Epoch 61/150\n",
      "110/110 [==============================] - 136s 1s/step - loss: 0.3188 - accuracy: 0.8836 - val_loss: 0.3621 - val_accuracy: 0.8710\n",
      "Epoch 62/150\n",
      "110/110 [==============================] - 135s 1s/step - loss: 0.3051 - accuracy: 0.8927 - val_loss: 0.3413 - val_accuracy: 0.8687\n",
      "Epoch 63/150\n",
      "110/110 [==============================] - 136s 1s/step - loss: 0.3005 - accuracy: 0.8862 - val_loss: 0.3438 - val_accuracy: 0.8881\n",
      "Epoch 64/150\n",
      "110/110 [==============================] - 135s 1s/step - loss: 0.3092 - accuracy: 0.8865 - val_loss: 0.3412 - val_accuracy: 0.8881\n",
      "Epoch 65/150\n",
      "110/110 [==============================] - 134s 1s/step - loss: 0.2976 - accuracy: 0.8904 - val_loss: 0.3742 - val_accuracy: 0.8607\n",
      "Epoch 66/150\n",
      "110/110 [==============================] - 135s 1s/step - loss: 0.2912 - accuracy: 0.8933 - val_loss: 0.3828 - val_accuracy: 0.8539\n",
      "Epoch 67/150\n",
      "110/110 [==============================] - 140s 1s/step - loss: 0.3041 - accuracy: 0.8902 - val_loss: 0.3065 - val_accuracy: 0.8961\n",
      "Epoch 68/150\n",
      "110/110 [==============================] - 140s 1s/step - loss: 0.2635 - accuracy: 0.8984 - val_loss: 0.3332 - val_accuracy: 0.8721\n",
      "Epoch 69/150\n",
      "110/110 [==============================] - 141s 1s/step - loss: 0.2873 - accuracy: 0.8956 - val_loss: 0.3388 - val_accuracy: 0.8836\n",
      "Epoch 70/150\n",
      "110/110 [==============================] - 140s 1s/step - loss: 0.2798 - accuracy: 0.8958 - val_loss: 0.3239 - val_accuracy: 0.8973\n",
      "Epoch 71/150\n",
      "110/110 [==============================] - 145s 1s/step - loss: 0.2676 - accuracy: 0.9104 - val_loss: 0.3165 - val_accuracy: 0.8881\n",
      "Epoch 72/150\n",
      "110/110 [==============================] - 140s 1s/step - loss: 0.2818 - accuracy: 0.8987 - val_loss: 0.3508 - val_accuracy: 0.8664\n",
      "Epoch 73/150\n",
      "110/110 [==============================] - 140s 1s/step - loss: 0.2817 - accuracy: 0.8958 - val_loss: 0.2795 - val_accuracy: 0.9075\n",
      "Epoch 74/150\n",
      "110/110 [==============================] - 140s 1s/step - loss: 0.2579 - accuracy: 0.9021 - val_loss: 0.3252 - val_accuracy: 0.8756\n",
      "Epoch 75/150\n",
      "110/110 [==============================] - 139s 1s/step - loss: 0.2583 - accuracy: 0.9030 - val_loss: 0.3202 - val_accuracy: 0.8904\n",
      "Epoch 76/150\n",
      "110/110 [==============================] - 140s 1s/step - loss: 0.2669 - accuracy: 0.8981 - val_loss: 0.2995 - val_accuracy: 0.8984\n",
      "Epoch 77/150\n",
      "110/110 [==============================] - 139s 1s/step - loss: 0.2589 - accuracy: 0.9032 - val_loss: 0.2768 - val_accuracy: 0.9121\n",
      "Epoch 78/150\n",
      "110/110 [==============================] - 138s 1s/step - loss: 0.2480 - accuracy: 0.9052 - val_loss: 0.3190 - val_accuracy: 0.8984\n",
      "Epoch 79/150\n",
      "110/110 [==============================] - 136s 1s/step - loss: 0.2459 - accuracy: 0.9092 - val_loss: 0.2838 - val_accuracy: 0.9132\n",
      "Epoch 80/150\n",
      "110/110 [==============================] - 136s 1s/step - loss: 0.2336 - accuracy: 0.9183 - val_loss: 0.3607 - val_accuracy: 0.8619\n",
      "Epoch 81/150\n",
      "110/110 [==============================] - 141s 1s/step - loss: 0.2435 - accuracy: 0.9098 - val_loss: 0.2756 - val_accuracy: 0.9098\n",
      "Epoch 82/150\n",
      "110/110 [==============================] - 138s 1s/step - loss: 0.2478 - accuracy: 0.9072 - val_loss: 0.2789 - val_accuracy: 0.9087\n",
      "Epoch 83/150\n",
      "110/110 [==============================] - 136s 1s/step - loss: 0.2259 - accuracy: 0.9200 - val_loss: 0.3090 - val_accuracy: 0.8858\n",
      "Epoch 84/150\n",
      "110/110 [==============================] - 137s 1s/step - loss: 0.2349 - accuracy: 0.9121 - val_loss: 0.2717 - val_accuracy: 0.9053\n",
      "Epoch 85/150\n",
      "110/110 [==============================] - 135s 1s/step - loss: 0.2226 - accuracy: 0.9175 - val_loss: 0.2596 - val_accuracy: 0.9212\n",
      "Epoch 86/150\n",
      "110/110 [==============================] - 133s 1s/step - loss: 0.2224 - accuracy: 0.9129 - val_loss: 0.2564 - val_accuracy: 0.9087\n",
      "Epoch 87/150\n",
      "110/110 [==============================] - 137s 1s/step - loss: 0.2165 - accuracy: 0.9180 - val_loss: 0.2379 - val_accuracy: 0.9269\n",
      "Epoch 88/150\n",
      "110/110 [==============================] - 135s 1s/step - loss: 0.2123 - accuracy: 0.9215 - val_loss: 0.3254 - val_accuracy: 0.8813\n",
      "Epoch 89/150\n",
      "110/110 [==============================] - 143s 1s/step - loss: 0.2330 - accuracy: 0.9126 - val_loss: 0.2909 - val_accuracy: 0.9041\n",
      "Epoch 90/150\n",
      "110/110 [==============================] - 145s 1s/step - loss: 0.2243 - accuracy: 0.9149 - val_loss: 0.2646 - val_accuracy: 0.9304\n",
      "Epoch 91/150\n",
      "110/110 [==============================] - 144s 1s/step - loss: 0.2205 - accuracy: 0.9189 - val_loss: 0.2580 - val_accuracy: 0.9167\n",
      "Epoch 92/150\n",
      "110/110 [==============================] - 143s 1s/step - loss: 0.2091 - accuracy: 0.9209 - val_loss: 0.2329 - val_accuracy: 0.9326\n",
      "Epoch 93/150\n",
      "110/110 [==============================] - 144s 1s/step - loss: 0.2039 - accuracy: 0.9234 - val_loss: 0.3069 - val_accuracy: 0.8904\n",
      "Epoch 94/150\n",
      "110/110 [==============================] - 143s 1s/step - loss: 0.2174 - accuracy: 0.9166 - val_loss: 0.3263 - val_accuracy: 0.8938\n",
      "Epoch 95/150\n",
      "110/110 [==============================] - 143s 1s/step - loss: 0.2129 - accuracy: 0.9257 - val_loss: 0.2587 - val_accuracy: 0.9224\n",
      "Epoch 96/150\n",
      "110/110 [==============================] - 144s 1s/step - loss: 0.2110 - accuracy: 0.9249 - val_loss: 0.2483 - val_accuracy: 0.9155\n",
      "Epoch 97/150\n",
      "110/110 [==============================] - 144s 1s/step - loss: 0.2207 - accuracy: 0.9166 - val_loss: 0.3059 - val_accuracy: 0.9030\n",
      "Epoch 98/150\n",
      "110/110 [==============================] - 143s 1s/step - loss: 0.2020 - accuracy: 0.9323 - val_loss: 0.2613 - val_accuracy: 0.9178\n",
      "Epoch 99/150\n",
      "110/110 [==============================] - 144s 1s/step - loss: 0.2130 - accuracy: 0.9249 - val_loss: 0.2405 - val_accuracy: 0.9212\n",
      "Epoch 100/150\n",
      "110/110 [==============================] - 144s 1s/step - loss: 0.2069 - accuracy: 0.9252 - val_loss: 0.2978 - val_accuracy: 0.9030\n",
      "Epoch 101/150\n",
      "110/110 [==============================] - 143s 1s/step - loss: 0.2099 - accuracy: 0.9232 - val_loss: 0.2487 - val_accuracy: 0.9326\n",
      "Epoch 102/150\n",
      "110/110 [==============================] - 144s 1s/step - loss: 0.1941 - accuracy: 0.9326 - val_loss: 0.2766 - val_accuracy: 0.9110\n",
      "Epoch 103/150\n",
      "110/110 [==============================] - 143s 1s/step - loss: 0.1952 - accuracy: 0.9303 - val_loss: 0.2214 - val_accuracy: 0.9315\n",
      "Epoch 104/150\n",
      "110/110 [==============================] - 144s 1s/step - loss: 0.2102 - accuracy: 0.9280 - val_loss: 0.3321 - val_accuracy: 0.8984\n",
      "Epoch 105/150\n",
      "110/110 [==============================] - 143s 1s/step - loss: 0.1975 - accuracy: 0.9280 - val_loss: 0.2699 - val_accuracy: 0.9155\n",
      "Epoch 106/150\n",
      "110/110 [==============================] - 144s 1s/step - loss: 0.1698 - accuracy: 0.9382 - val_loss: 0.2717 - val_accuracy: 0.9064\n",
      "Epoch 107/150\n",
      "110/110 [==============================] - 143s 1s/step - loss: 0.1803 - accuracy: 0.9377 - val_loss: 0.2440 - val_accuracy: 0.9235\n",
      "Epoch 108/150\n",
      "110/110 [==============================] - 144s 1s/step - loss: 0.1804 - accuracy: 0.9351 - val_loss: 0.2296 - val_accuracy: 0.9269\n",
      "Epoch 109/150\n",
      "110/110 [==============================] - 143s 1s/step - loss: 0.1874 - accuracy: 0.9348 - val_loss: 0.2478 - val_accuracy: 0.9292\n",
      "Epoch 110/150\n",
      "110/110 [==============================] - 141s 1s/step - loss: 0.1982 - accuracy: 0.9328 - val_loss: 0.2417 - val_accuracy: 0.9247\n",
      "Epoch 111/150\n",
      "110/110 [==============================] - 143s 1s/step - loss: 0.1752 - accuracy: 0.9365 - val_loss: 0.2467 - val_accuracy: 0.9224\n",
      "Epoch 112/150\n",
      "110/110 [==============================] - 143s 1s/step - loss: 0.1882 - accuracy: 0.9371 - val_loss: 0.2351 - val_accuracy: 0.9304\n",
      "Epoch 113/150\n",
      "110/110 [==============================] - 143s 1s/step - loss: 0.1997 - accuracy: 0.9271 - val_loss: 0.2819 - val_accuracy: 0.9269\n",
      "Epoch 114/150\n",
      "110/110 [==============================] - 144s 1s/step - loss: 0.1738 - accuracy: 0.9326 - val_loss: 0.2412 - val_accuracy: 0.9224\n",
      "Epoch 115/150\n",
      "110/110 [==============================] - 143s 1s/step - loss: 0.1763 - accuracy: 0.9340 - val_loss: 0.2816 - val_accuracy: 0.9087\n",
      "Epoch 116/150\n",
      "110/110 [==============================] - 143s 1s/step - loss: 0.1827 - accuracy: 0.9328 - val_loss: 0.2260 - val_accuracy: 0.9292\n",
      "Epoch 117/150\n",
      "110/110 [==============================] - 143s 1s/step - loss: 0.1636 - accuracy: 0.9456 - val_loss: 0.2404 - val_accuracy: 0.9075\n",
      "Epoch 118/150\n",
      "110/110 [==============================] - 144s 1s/step - loss: 0.1896 - accuracy: 0.9311 - val_loss: 0.2220 - val_accuracy: 0.9361\n",
      "Epoch 119/150\n",
      "110/110 [==============================] - 144s 1s/step - loss: 0.1706 - accuracy: 0.9439 - val_loss: 0.2147 - val_accuracy: 0.9304\n",
      "Epoch 120/150\n",
      "110/110 [==============================] - 144s 1s/step - loss: 0.1861 - accuracy: 0.9314 - val_loss: 0.2698 - val_accuracy: 0.9155\n",
      "Epoch 121/150\n",
      "110/110 [==============================] - 144s 1s/step - loss: 0.1875 - accuracy: 0.9357 - val_loss: 0.2275 - val_accuracy: 0.9269\n",
      "Epoch 122/150\n",
      "110/110 [==============================] - 143s 1s/step - loss: 0.1635 - accuracy: 0.9437 - val_loss: 0.2371 - val_accuracy: 0.9247\n",
      "Epoch 123/150\n",
      "110/110 [==============================] - 144s 1s/step - loss: 0.1576 - accuracy: 0.9431 - val_loss: 0.2166 - val_accuracy: 0.9269\n",
      "Epoch 124/150\n",
      "110/110 [==============================] - 144s 1s/step - loss: 0.1685 - accuracy: 0.9394 - val_loss: 0.2305 - val_accuracy: 0.9326\n",
      "Epoch 125/150\n",
      "110/110 [==============================] - 143s 1s/step - loss: 0.1850 - accuracy: 0.9289 - val_loss: 0.2937 - val_accuracy: 0.9132\n",
      "Epoch 126/150\n",
      "110/110 [==============================] - 144s 1s/step - loss: 0.1787 - accuracy: 0.9394 - val_loss: 0.2386 - val_accuracy: 0.9189\n",
      "Epoch 127/150\n",
      "110/110 [==============================] - 144s 1s/step - loss: 0.1757 - accuracy: 0.9357 - val_loss: 0.2760 - val_accuracy: 0.9304\n",
      "Epoch 128/150\n",
      "110/110 [==============================] - 143s 1s/step - loss: 0.1696 - accuracy: 0.9437 - val_loss: 0.2832 - val_accuracy: 0.9132\n",
      "Epoch 129/150\n",
      "110/110 [==============================] - 144s 1s/step - loss: 0.1636 - accuracy: 0.9385 - val_loss: 0.2162 - val_accuracy: 0.9315\n",
      "Epoch 130/150\n",
      "110/110 [==============================] - 143s 1s/step - loss: 0.1722 - accuracy: 0.9380 - val_loss: 0.2318 - val_accuracy: 0.9372\n",
      "Epoch 131/150\n",
      "110/110 [==============================] - 143s 1s/step - loss: 0.1625 - accuracy: 0.9451 - val_loss: 0.2565 - val_accuracy: 0.9258\n",
      "Epoch 132/150\n",
      "110/110 [==============================] - 143s 1s/step - loss: 0.1657 - accuracy: 0.9434 - val_loss: 0.2429 - val_accuracy: 0.9269\n",
      "Epoch 133/150\n",
      "110/110 [==============================] - 144s 1s/step - loss: 0.1907 - accuracy: 0.9337 - val_loss: 0.2315 - val_accuracy: 0.9304\n",
      "Epoch 134/150\n",
      "110/110 [==============================] - 142s 1s/step - loss: 0.1621 - accuracy: 0.9451 - val_loss: 0.2456 - val_accuracy: 0.9212\n",
      "Epoch 135/150\n",
      "110/110 [==============================] - 144s 1s/step - loss: 0.1669 - accuracy: 0.9437 - val_loss: 0.3579 - val_accuracy: 0.8733\n",
      "Epoch 136/150\n",
      "110/110 [==============================] - 144s 1s/step - loss: 0.1564 - accuracy: 0.9476 - val_loss: 0.2489 - val_accuracy: 0.9349\n",
      "Epoch 137/150\n",
      "110/110 [==============================] - 144s 1s/step - loss: 0.1784 - accuracy: 0.9377 - val_loss: 0.2424 - val_accuracy: 0.9212\n",
      "Epoch 138/150\n",
      "110/110 [==============================] - 138s 1s/step - loss: 0.1628 - accuracy: 0.9442 - val_loss: 0.2075 - val_accuracy: 0.9406\n",
      "Epoch 139/150\n",
      "110/110 [==============================] - 2380s 22s/step - loss: 0.2027 - accuracy: 0.9289 - val_loss: 0.2677 - val_accuracy: 0.9132\n",
      "Epoch 140/150\n",
      "110/110 [==============================] - 138s 1s/step - loss: 0.1790 - accuracy: 0.9351 - val_loss: 0.2342 - val_accuracy: 0.9247\n",
      "Epoch 141/150\n",
      "110/110 [==============================] - 143s 1s/step - loss: 0.1530 - accuracy: 0.9462 - val_loss: 0.2552 - val_accuracy: 0.9098\n",
      "Epoch 142/150\n",
      "110/110 [==============================] - 141s 1s/step - loss: 0.1638 - accuracy: 0.9431 - val_loss: 0.2210 - val_accuracy: 0.9326\n",
      "Epoch 143/150\n",
      "110/110 [==============================] - 133s 1s/step - loss: 0.1544 - accuracy: 0.9465 - val_loss: 0.2159 - val_accuracy: 0.9247\n",
      "Epoch 144/150\n",
      "110/110 [==============================] - 133s 1s/step - loss: 0.1568 - accuracy: 0.9442 - val_loss: 0.2212 - val_accuracy: 0.9315\n",
      "Epoch 145/150\n",
      "110/110 [==============================] - 133s 1s/step - loss: 0.1483 - accuracy: 0.9493 - val_loss: 0.2330 - val_accuracy: 0.9258\n",
      "Epoch 146/150\n",
      "110/110 [==============================] - 133s 1s/step - loss: 0.1554 - accuracy: 0.9462 - val_loss: 0.2173 - val_accuracy: 0.9235\n",
      "Epoch 147/150\n",
      "110/110 [==============================] - 133s 1s/step - loss: 0.1686 - accuracy: 0.9363 - val_loss: 0.2254 - val_accuracy: 0.9315\n",
      "Epoch 148/150\n",
      "110/110 [==============================] - 133s 1s/step - loss: 0.1698 - accuracy: 0.9394 - val_loss: 0.2590 - val_accuracy: 0.9292\n",
      "Epoch 149/150\n",
      "110/110 [==============================] - 133s 1s/step - loss: 0.1410 - accuracy: 0.9499 - val_loss: 0.2291 - val_accuracy: 0.9235\n",
      "Epoch 150/150\n",
      "110/110 [==============================] - 133s 1s/step - loss: 0.1600 - accuracy: 0.9448 - val_loss: 0.2318 - val_accuracy: 0.9189\n"
     ]
    }
   ],
   "source": [
    "epochs = 150\n",
    "\n",
    "history = model.fit(\n",
    "    train_data,\n",
    "    epochs = epochs,\n",
    "    batch_size = batch_size,\n",
    "    validation_data = test_data,\n",
    "    steps_per_epoch=int(np.ceil(60000 / float(batch_size))),\n",
    "    validation_steps=int(np.ceil(10000 / float(batch_size)))\n",
    ")"
   ]
  },
  {
   "cell_type": "markdown",
   "metadata": {
    "id": "ALnB9s39JcVT"
   },
   "source": [
    "## Guardar Modelo"
   ]
  },
  {
   "cell_type": "code",
   "execution_count": 14,
   "metadata": {
    "id": "cot7_oyQJfCR"
   },
   "outputs": [],
   "source": [
    "model.save('proyectoai_g3.h5')"
   ]
  },
  {
   "cell_type": "markdown",
   "metadata": {
    "id": "mqb1A_RHDpcd"
   },
   "source": [
    "## Evaluacion"
   ]
  },
  {
   "cell_type": "code",
   "execution_count": 18,
   "metadata": {
    "id": "8jCpciRVDsJ8"
   },
   "outputs": [
    {
     "data": {
      "image/png": "[encoded data removed]",
      "text/plain": [
       "<Figure size 640x480 with 1 Axes>"
      ]
     },
     "metadata": {},
     "output_type": "display_data"
    }
   ],
   "source": [
    "# Loss\n",
    "fig = plt.figure()\n",
    "plt.plot(history.history[\"loss\"], color = \"teal\", label = \"loss\")\n",
    "plt.plot(history.history[\"val_loss\"], color = \"orange\", label = \"val_loss\")\n",
    "plt.suptitle('Loss', fontsize = 20)\n",
    "plt.legend(loc = \"upper left\")\n",
    "plt.show()"
   ]
  },
  {
   "cell_type": "code",
   "execution_count": 19,
   "metadata": {
    "id": "ui4m8HlUAxxd"
   },
   "outputs": [
    {
     "data": {
      "image/png": "[encoded data removed]",
      "text/plain": [
       "<Figure size 640x480 with 1 Axes>"
      ]
     },
     "metadata": {},
     "output_type": "display_data"
    }
   ],
   "source": [
    "# Accuracy\n",
    "plt.plot(history.history[\"accuracy\"], color = \"teal\")\n",
    "plt.plot(history.history[\"val_accuracy\"], color = \"orange\")\n",
    "plt.ylabel(\"Accuracy\")\n",
    "plt.xlabel(\"Epoch\")\n",
    "plt.legend(['train', 'test'])\n",
    "plt.show()"
   ]
  },
  {
   "cell_type": "code",
   "execution_count": 92,
   "metadata": {
    "id": "qtoiCDXwClap"
   },
   "outputs": [
    {
     "name": "stdout",
     "output_type": "stream",
     "text": [
      "28/28 [==============================] - 26s 913ms/step\n"
     ]
    }
   ],
   "source": [
    "# Matriz\n",
    "from sklearn.metrics import confusion_matrix\n",
    "import seaborn as sns\n",
    "import numpy as np\n",
    "import math\n",
    "\n",
    "test_steps_per_epoch = math.ceil(test_data.samples / test_data.batch_size)\n",
    "Y_pred = model.predict(test_data)"
   ]
  },
  {
   "cell_type": "code",
   "execution_count": 93,
   "metadata": {},
   "outputs": [],
   "source": [
    "preds_cls_idx = Y_pred.argmax(axis=-1)\n",
    "idx_to_cls = {v: k for k, v in test_data.class_indices.items()}\n",
    "preds_cls = np.vectorize(idx_to_cls.get)(preds_cls_idx)"
   ]
  },
  {
   "cell_type": "code",
   "execution_count": 94,
   "metadata": {},
   "outputs": [
    {
     "name": "stdout",
     "output_type": "stream",
     "text": [
      "Test Data accuracy:  66.55251141552512\n"
     ]
    }
   ],
   "source": [
    "from sklearn.metrics import accuracy_score\n",
    "labels = test_data.classes\n",
    "print('Test Data accuracy: ', accuracy_score(labels, preds_cls_idx) * 100)"
   ]
  },
  {
   "cell_type": "code",
   "execution_count": 95,
   "metadata": {},
   "outputs": [
    {
     "data": {
      "text/html": [
       "<div>\n",
       "<style scoped>\n",
       "    .dataframe tbody tr th:only-of-type {\n",
       "        vertical-align: middle;\n",
       "    }\n",
       "\n",
       "    .dataframe tbody tr th {\n",
       "        vertical-align: top;\n",
       "    }\n",
       "\n",
       "    .dataframe thead th {\n",
       "        text-align: right;\n",
       "    }\n",
       "</style>\n",
       "<table border=\"1\" class=\"dataframe\">\n",
       "  <thead>\n",
       "    <tr style=\"text-align: right;\">\n",
       "      <th></th>\n",
       "      <th>mancha_negra</th>\n",
       "      <th>monilia</th>\n",
       "      <th>saludable</th>\n",
       "    </tr>\n",
       "  </thead>\n",
       "  <tbody>\n",
       "    <tr>\n",
       "      <th>mancha_negra</th>\n",
       "      <td>0</td>\n",
       "      <td>2</td>\n",
       "      <td>18</td>\n",
       "    </tr>\n",
       "    <tr>\n",
       "      <th>monilia</th>\n",
       "      <td>2</td>\n",
       "      <td>32</td>\n",
       "      <td>154</td>\n",
       "    </tr>\n",
       "    <tr>\n",
       "      <th>saludable</th>\n",
       "      <td>9</td>\n",
       "      <td>108</td>\n",
       "      <td>551</td>\n",
       "    </tr>\n",
       "  </tbody>\n",
       "</table>\n",
       "</div>"
      ],
      "text/plain": [
       "              mancha_negra  monilia  saludable\n",
       "mancha_negra             0        2         18\n",
       "monilia                  2       32        154\n",
       "saludable                9      108        551"
      ]
     },
     "execution_count": 95,
     "metadata": {},
     "output_type": "execute_result"
    }
   ],
   "source": [
    "import pandas as pd\n",
    "cf = confusion_matrix(labels, preds_cls_idx)\n",
    "df_cf = pd.DataFrame(cf, columns = test_data.class_indices, index = test_data.class_indices)\n",
    "df_cf"
   ]
  },
  {
   "cell_type": "code",
   "execution_count": 98,
   "metadata": {},
   "outputs": [
    {
     "data": {
      "image/png": "[encoded data removed]",
      "text/plain": [
       "<Figure size 700x500 with 2 Axes>"
      ]
     },
     "metadata": {},
     "output_type": "display_data"
    }
   ],
   "source": [
    "plt.figure(figsize = (7, 5))\n",
    "sns.heatmap(df_cf, annot = True, annot_kws = {\"size\": 16}, fmt = \".1f\", cmap = \"crest\")\n",
    "plt.tight_layout()\n",
    "plt.savefig(\"foto1.png\")"
   ]
  }
 ],
 "metadata": {
  "colab": {
   "provenance": []
  },
  "kernelspec": {
   "display_name": "Python 3 (ipykernel)",
   "language": "python",
   "name": "python3"
  },
  "language_info": {
   "codemirror_mode": {
    "name": "ipython",
    "version": 3
   },
   "file_extension": ".py",
   "mimetype": "text/x-python",
   "name": "python",
   "nbconvert_exporter": "python",
   "pygments_lexer": "ipython3",
   "version": "3.10.13"
  }
 },
 "nbformat": 4,
 "nbformat_minor": 4
}
