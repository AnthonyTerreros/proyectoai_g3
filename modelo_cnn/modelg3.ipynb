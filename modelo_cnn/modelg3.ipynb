{
  "nbformat": 4,
  "nbformat_minor": 0,
  "metadata": {
    "colab": {
      "provenance": []
    },
    "kernelspec": {
      "name": "python3",
      "display_name": "Python 3"
    },
    "language_info": {
      "name": "python"
    }
  },
  "cells": [
    {
      "cell_type": "code",
      "execution_count": null,
      "metadata": {
        "id": "34Fx5hsIybTv"
      },
      "outputs": [],
      "source": [
        "import matplotlib.pyplot as plt\n",
        "import numpy as np\n",
        "import tensorflow as tf\n",
        "import tensorflow_datasets as tfds\n",
        "import os\n",
        "\n",
        "from tensorflow.keras import layers, models\n",
        "from tensorflow.keras.preprocessing.image import ImageDataGenerator\n",
        "from google.colab import drive\n",
        "\n",
        "drive.mount('/content/drive/')"
      ]
    },
    {
      "cell_type": "markdown",
      "source": [
        "## Cargando de Dataset"
      ],
      "metadata": {
        "id": "UfRIoA2TDwpJ"
      }
    },
    {
      "cell_type": "code",
      "source": [],
      "metadata": {
        "id": "mn1T0g_PC9dz"
      },
      "execution_count": null,
      "outputs": []
    },
    {
      "cell_type": "markdown",
      "source": [
        "## Normalizacion"
      ],
      "metadata": {
        "id": "6aVDaqusD6kJ"
      }
    },
    {
      "cell_type": "code",
      "source": [
        "image_width = 256\n",
        "height = 256"
      ],
      "metadata": {
        "id": "4_Q7FE8gD8nk"
      },
      "execution_count": null,
      "outputs": []
    },
    {
      "cell_type": "markdown",
      "source": [
        "## Aumento de Datos (Data Augmentation)"
      ],
      "metadata": {
        "id": "1FGr3Tv_DgBx"
      }
    },
    {
      "cell_type": "code",
      "source": [
        "rotation_range = 40\n",
        "width_move = 0.25\n",
        "height_move = 0.25\n",
        "tilt_range = 15\n",
        "zoom_range = [0.5, 1]\n",
        "\n",
        "datagen = ImageDataGenerator(\n",
        "    rotation_range = rotation_range,\n",
        "    width_shift_range = width_move,\n",
        "    height_shift_range = height_move,\n",
        "    zoom_range = zoom_range,\n",
        "    shear_range = tilt_range\n",
        ")\n",
        "datagen.fit(X_Train)"
      ],
      "metadata": {
        "id": "OnFjrt_iDlHl"
      },
      "execution_count": null,
      "outputs": []
    },
    {
      "cell_type": "markdown",
      "source": [
        "## Creacion de Modelo"
      ],
      "metadata": {
        "id": "v8K9ul1MC-We"
      }
    },
    {
      "cell_type": "code",
      "source": [
        "model = models.Sequential([\n",
        "    layers.Conv2D(16, (3,3), input_shape=(256, 256, 3), activation='relu'),\n",
        "    layers.MaxPooling2D(2,2),\n",
        "    layers.Conv2D(32, (3,3), activation='relu'),\n",
        "    layers.Conv2D(32, (3,3), activation='relu'),\n",
        "    layers.MaxPooling2D(2,2),\n",
        "    layers.Conv2D(64, (3,3), activation='relu'),\n",
        "    layers.Conv2D(64, (3,3), activation='relu'),\n",
        "    layers.MaxPooling2D(2,2),\n",
        "    layers.Conv2D(128, (3,3), activation='relu'),\n",
        "    layers.MaxPooling2D(2,2),\n",
        "    layers.Flatten(),\n",
        "    layers.Dense(units = 128, activation=\"relu\"),\n",
        "    layers.Dense(units = 50, activation=\"relu\"),\n",
        "    layers.Dropout(0.5),\n",
        "    layers.Dense(units = 50, activation=\"relu\"),\n",
        "    layers.Dense(units = 3, activation=\"softmax\")\n",
        "])\n",
        "\n",
        "modelo.compile(optimizer = 'adam',\n",
        "              loss = 'categorical_crossentropy',\n",
        "              metrics = ['accuracy'])"
      ],
      "metadata": {
        "id": "Koknx6ZYDHfj"
      },
      "execution_count": null,
      "outputs": []
    },
    {
      "cell_type": "markdown",
      "source": [
        "## Entrenamiento"
      ],
      "metadata": {
        "id": "Y1o07IjxDmQl"
      }
    },
    {
      "cell_type": "code",
      "source": [
        "batch_size = 32\n",
        "epochs = 200\n",
        "\n",
        "data_gen_entrenamiento = datagen.flow(X_Train, Y_Train, batch_size = batch_size)\n",
        "\n",
        "history = modelo.fit(\n",
        "    data_gen_entrenamiento,\n",
        "    epochs = epochs,\n",
        "    batch_size = batch_size,\n",
        "    validation_data = (X_Test, Y_Test),\n",
        "    steps_per_epoch=int(np.ceil(60000 / float(batch_size))),\n",
        "    validation_steps=int(np.ceil(10000 / float(batch_size)))\n",
        ")"
      ],
      "metadata": {
        "id": "mICLQV-EDpDM"
      },
      "execution_count": null,
      "outputs": []
    },
    {
      "cell_type": "markdown",
      "source": [
        "## Validacion"
      ],
      "metadata": {
        "id": "mqb1A_RHDpcd"
      }
    },
    {
      "cell_type": "code",
      "source": [],
      "metadata": {
        "id": "8jCpciRVDsJ8"
      },
      "execution_count": null,
      "outputs": []
    },
    {
      "cell_type": "markdown",
      "source": [
        "## Guardar Modelo"
      ],
      "metadata": {
        "id": "ALnB9s39JcVT"
      }
    },
    {
      "cell_type": "code",
      "source": [
        "modelo.save('proyectoai_g3.h5')"
      ],
      "metadata": {
        "id": "cot7_oyQJfCR"
      },
      "execution_count": null,
      "outputs": []
    }
  ]
}