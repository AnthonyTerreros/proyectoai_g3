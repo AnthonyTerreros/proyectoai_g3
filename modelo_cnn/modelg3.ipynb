{
  "nbformat": 4,
  "nbformat_minor": 0,
  "metadata": {
    "colab": {
      "provenance": []
    },
    "kernelspec": {
      "name": "python3",
      "display_name": "Python 3"
    },
    "language_info": {
      "name": "python"
    }
  },
  "cells": [
    {
      "cell_type": "code",
      "execution_count": 3,
      "metadata": {
        "id": "34Fx5hsIybTv",
        "colab": {
          "base_uri": "https://localhost:8080/"
        },
        "outputId": "1572462a-c3ac-4ab2-87ca-fe83eab3d20b"
      },
      "outputs": [
        {
          "output_type": "stream",
          "name": "stdout",
          "text": [
            "Mounted at /content/drive/\n"
          ]
        }
      ],
      "source": [
        "import matplotlib.pyplot as plt\n",
        "import numpy as np\n",
        "import tensorflow as tf\n",
        "import tensorflow_datasets as tfds\n",
        "import os\n",
        "\n",
        "from tensorflow.keras import layers, models\n",
        "from tensorflow.keras.preprocessing.image import ImageDataGenerator\n",
        "from google.colab import drive\n",
        "\n",
        "drive.mount('/content/drive/')"
      ]
    },
    {
      "cell_type": "markdown",
      "source": [
        "## Carga de Dataset, Normalizacion y Aumento de Datos"
      ],
      "metadata": {
        "id": "UfRIoA2TDwpJ"
      }
    },
    {
      "cell_type": "code",
      "source": [
        "base_directory = \"/content/drive/MyDrive/proyectoai/cacao_diseases/cacao_photos\"\n",
        "image_size = 256\n",
        "rotation_range = 40\n",
        "width_move = 0.25\n",
        "height_move = 0.25\n",
        "tilt_range = 15\n",
        "zoom_range = [0.5, 1]"
      ],
      "metadata": {
        "id": "mn1T0g_PC9dz"
      },
      "execution_count": 5,
      "outputs": []
    },
    {
      "cell_type": "code",
      "source": [
        "train_datagenerator = ImageDataGenerator(\n",
        "    rescale = 1./255,\n",
        "    rotation_range = rotation_range,\n",
        "    width_shift_range = width_move,\n",
        "    height_shift_range = height_move,\n",
        "    zoom_range = zoom_range,\n",
        "    shear_range = tilt_range,\n",
        "    validation_split = 0.2\n",
        ")\n",
        "\n",
        "test_datagenerator = ImageDataGenerator(\n",
        "    rescale = 1./255,\n",
        "    validation_split = 0.2\n",
        ")"
      ],
      "metadata": {
        "id": "OnFjrt_iDlHl"
      },
      "execution_count": 4,
      "outputs": []
    },
    {
      "cell_type": "code",
      "source": [
        "train_data = train_datagenerator.flow_from_directory(\n",
        "    base_directory,\n",
        "    target_size = (image_size, image_size),\n",
        "    batch_size = 32,\n",
        "    subset = \"training\"\n",
        ")\n",
        "\n",
        "test_data = train_datagenerator.flow_from_directory(\n",
        "    base_directory,\n",
        "    target_size = (image_size, image_size),\n",
        "    batch_size = 32,\n",
        "    subset = \"validation\"\n",
        ")"
      ],
      "metadata": {
        "colab": {
          "base_uri": "https://localhost:8080/"
        },
        "id": "NPGp0RqEkl6C",
        "outputId": "3b2f75bd-97af-411d-bf12-d1ccd077d0cf"
      },
      "execution_count": 6,
      "outputs": [
        {
          "output_type": "stream",
          "name": "stdout",
          "text": [
            "Found 3514 images belonging to 3 classes.\n",
            "Found 876 images belonging to 3 classes.\n"
          ]
        }
      ]
    },
    {
      "cell_type": "markdown",
      "source": [
        "## Creacion de Modelo"
      ],
      "metadata": {
        "id": "v8K9ul1MC-We"
      }
    },
    {
      "cell_type": "code",
      "source": [
        "model = models.Sequential([\n",
        "    layers.Conv2D(16, (3,3), input_shape=(image_size, image_size, 3), activation='relu'),\n",
        "    layers.MaxPooling2D(2,2),\n",
        "    layers.Conv2D(32, (3,3), activation='relu'),\n",
        "    layers.Conv2D(32, (3,3), activation='relu'),\n",
        "    layers.MaxPooling2D(2,2),\n",
        "    layers.Conv2D(64, (3,3), activation='relu'),\n",
        "    layers.Conv2D(64, (3,3), activation='relu'),\n",
        "    layers.MaxPooling2D(2,2),\n",
        "    layers.Conv2D(128, (3,3), activation='relu'),\n",
        "    layers.MaxPooling2D(2,2),\n",
        "    layers.Flatten(),\n",
        "    layers.Dense(units = 128, activation=\"relu\"),\n",
        "    layers.Dense(units = 50, activation=\"relu\"),\n",
        "    layers.Dropout(0.5),\n",
        "    layers.Dense(units = 50, activation=\"relu\"),\n",
        "    layers.Dense(units = 3, activation=\"softmax\")\n",
        "])"
      ],
      "metadata": {
        "id": "Koknx6ZYDHfj"
      },
      "execution_count": 7,
      "outputs": []
    },
    {
      "cell_type": "code",
      "source": [
        "model.summary()"
      ],
      "metadata": {
        "colab": {
          "base_uri": "https://localhost:8080/"
        },
        "id": "q5Mk7H-Klcof",
        "outputId": "923ad873-f8b0-484e-8440-6d16b892cb5e"
      },
      "execution_count": 8,
      "outputs": [
        {
          "output_type": "stream",
          "name": "stdout",
          "text": [
            "Model: \"sequential\"\n",
            "_________________________________________________________________\n",
            " Layer (type)                Output Shape              Param #   \n",
            "=================================================================\n",
            " conv2d (Conv2D)             (None, 254, 254, 16)      448       \n",
            "                                                                 \n",
            " max_pooling2d (MaxPooling2  (None, 127, 127, 16)      0         \n",
            " D)                                                              \n",
            "                                                                 \n",
            " conv2d_1 (Conv2D)           (None, 125, 125, 32)      4640      \n",
            "                                                                 \n",
            " conv2d_2 (Conv2D)           (None, 123, 123, 32)      9248      \n",
            "                                                                 \n",
            " max_pooling2d_1 (MaxPoolin  (None, 61, 61, 32)        0         \n",
            " g2D)                                                            \n",
            "                                                                 \n",
            " conv2d_3 (Conv2D)           (None, 59, 59, 64)        18496     \n",
            "                                                                 \n",
            " conv2d_4 (Conv2D)           (None, 57, 57, 64)        36928     \n",
            "                                                                 \n",
            " max_pooling2d_2 (MaxPoolin  (None, 28, 28, 64)        0         \n",
            " g2D)                                                            \n",
            "                                                                 \n",
            " conv2d_5 (Conv2D)           (None, 26, 26, 128)       73856     \n",
            "                                                                 \n",
            " max_pooling2d_3 (MaxPoolin  (None, 13, 13, 128)       0         \n",
            " g2D)                                                            \n",
            "                                                                 \n",
            " flatten (Flatten)           (None, 21632)             0         \n",
            "                                                                 \n",
            " dense (Dense)               (None, 128)               2769024   \n",
            "                                                                 \n",
            " dense_1 (Dense)             (None, 50)                6450      \n",
            "                                                                 \n",
            " dropout (Dropout)           (None, 50)                0         \n",
            "                                                                 \n",
            " dense_2 (Dense)             (None, 50)                2550      \n",
            "                                                                 \n",
            " dense_3 (Dense)             (None, 3)                 153       \n",
            "                                                                 \n",
            "=================================================================\n",
            "Total params: 2921793 (11.15 MB)\n",
            "Trainable params: 2921793 (11.15 MB)\n",
            "Non-trainable params: 0 (0.00 Byte)\n",
            "_________________________________________________________________\n"
          ]
        }
      ]
    },
    {
      "cell_type": "code",
      "source": [
        "model.compile(optimizer = 'adam',\n",
        "              loss = 'categorical_crossentropy',\n",
        "              metrics = ['accuracy'])"
      ],
      "metadata": {
        "id": "GU2evybrldQF"
      },
      "execution_count": 9,
      "outputs": []
    },
    {
      "cell_type": "markdown",
      "source": [
        "## Entrenamiento"
      ],
      "metadata": {
        "id": "Y1o07IjxDmQl"
      }
    },
    {
      "cell_type": "code",
      "source": [
        "epochs = 50\n",
        "batch_size = 32\n",
        "\n",
        "history = model.fit(\n",
        "    train_data,\n",
        "    epochs = epochs,\n",
        "    batch_size = batch_size,\n",
        "    validation_data = test_data\n",
        ")"
      ],
      "metadata": {
        "id": "mICLQV-EDpDM",
        "colab": {
          "base_uri": "https://localhost:8080/"
        },
        "outputId": "0c3c6a8e-c7e3-47b7-9baf-f92dc1c016d3"
      },
      "execution_count": null,
      "outputs": [
        {
          "output_type": "stream",
          "name": "stdout",
          "text": [
            "Epoch 1/50\n",
            " 96/110 [=========================>....] - ETA: 2:07 - loss: 0.7190 - accuracy: 0.7305"
          ]
        }
      ]
    },
    {
      "cell_type": "markdown",
      "source": [
        "## Evaluacion"
      ],
      "metadata": {
        "id": "mqb1A_RHDpcd"
      }
    },
    {
      "cell_type": "code",
      "source": [
        "fig = plt.figure()\n",
        "plt.plot(history.history[\"loss\"], color = \"teal\", label = \"loss\")\n",
        "plt.plot(history.history[\"val_loss\"], color = \"teal\", label = \"loss\")\n",
        "plt.subtitle('Loss', fontsize = 20)\n",
        "plt.legend(loc = \"upper left\")\n",
        "plt.show()"
      ],
      "metadata": {
        "id": "8jCpciRVDsJ8"
      },
      "execution_count": null,
      "outputs": []
    },
    {
      "cell_type": "markdown",
      "source": [
        "## Guardar Modelo"
      ],
      "metadata": {
        "id": "ALnB9s39JcVT"
      }
    },
    {
      "cell_type": "code",
      "source": [
        "model.save('proyectoai_g3.h5')"
      ],
      "metadata": {
        "id": "cot7_oyQJfCR"
      },
      "execution_count": null,
      "outputs": []
    }
  ]
}